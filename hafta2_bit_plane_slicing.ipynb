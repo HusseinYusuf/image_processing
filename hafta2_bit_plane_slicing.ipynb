{
 "cells": [
  {
   "cell_type": "code",
   "execution_count": null,
   "id": "39b4599f",
   "metadata": {},
   "outputs": [],
   "source": [
    "import cv2\n",
    "import numpy as np\n",
    "\n",
    "# Load an image\n",
    "image = cv2.imread('/Users/hussef/Downloads/pexels-photo-1727534.jpeg', cv2.IMREAD_GRAYSCALE)\n",
    "\n",
    "# Function to perform bit plane slicing\n",
    "def bit_plane_slice(image, bit_position):\n",
    "    # Extract the specific bit plane\n",
    "    bit_plane = (image >> bit_position) & 1\n",
    "    return bit_plane * 255  # Scale to 0-255 for visualization\n",
    "\n",
    "# Number of bits in the image (assuming 8-bit grayscale)\n",
    "num_bits = 8\n",
    "\n",
    "# Perform bit plane slicing for each bit\n",
    "bit_planes = [bit_plane_slice(image, i) for i in range(num_bits)]\n",
    "\n",
    "# Display the original and bit planes\n",
    "cv2.imshow('Original Image', image)\n",
    "for i in range(num_bits):\n",
    "    cv2.imshow(f'Bit Plane {i}', bit_planes[i])\n",
    "\n",
    "cv2.waitKey(0)\n",
    "cv2.destroyAllWindows()\n"
   ]
  },
  {
   "cell_type": "code",
   "execution_count": null,
   "id": "765fe819",
   "metadata": {},
   "outputs": [],
   "source": []
  }
 ],
 "metadata": {
  "kernelspec": {
   "display_name": "Python 3 (ipykernel)",
   "language": "python",
   "name": "python3"
  },
  "language_info": {
   "codemirror_mode": {
    "name": "ipython",
    "version": 3
   },
   "file_extension": ".py",
   "mimetype": "text/x-python",
   "name": "python",
   "nbconvert_exporter": "python",
   "pygments_lexer": "ipython3",
   "version": "3.11.4"
  }
 },
 "nbformat": 4,
 "nbformat_minor": 5
}
