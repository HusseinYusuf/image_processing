{
 "cells": [
  {
   "cell_type": "code",
   "execution_count": null,
   "id": "5077527e",
   "metadata": {},
   "outputs": [],
   "source": [
    "import cv2\n",
    "import numpy as np\n",
    "\n",
    "# Load the image\n",
    "image = cv2.imread('/Users/hussef/Downloads/pexels-photo-1727534.jpeg', cv2.IMREAD_GRAYSCALE)  # Grayscale image\n",
    "\n",
    "# Define the kernel size for median filtering\n",
    "median_kernel_size = 3  # You can adjust this based on the desired filtering effect\n",
    "\n",
    "# Apply median filtering\n",
    "median_filtered = cv2.medianBlur(image, median_kernel_size)\n",
    "\n",
    "# Define the standard deviation (sigma) for the Gaussian kernel\n",
    "sigma = 1.5  # You can adjust this based on the desired filtering effect\n",
    "\n",
    "# Apply Gaussian filtering\n",
    "gaussian_filtered = cv2.GaussianBlur(image, (0, 0), sigma)\n",
    "\n",
    "# Calculate the standard deviation of pixel values\n",
    "std_dev = np.std(image)\n",
    "\n",
    "# Apply Laplace filtering\n",
    "laplace_filtered = cv2.Laplacian(image, cv2.CV_64F)\n",
    "laplace_filtered = cv2.convertScaleAbs(laplace_filtered)\n",
    "\n",
    "# Display the original and filtered images\n",
    "cv2.imshow('Original Image', image)\n",
    "cv2.imshow('Median Filtered Image', median_filtered)\n",
    "cv2.imshow('Gaussian Filtered Image', gaussian_filtered)\n",
    "cv2.imshow('Laplace Filtered Image', laplace_filtered)\n",
    "\n",
    "print(f'Standard Deviation: {std_dev}')\n",
    "\n",
    "cv2.waitKey(0)\n",
    "cv2.destroyAllWindows()\n"
   ]
  },
  {
   "cell_type": "code",
   "execution_count": null,
   "id": "48a28224",
   "metadata": {},
   "outputs": [],
   "source": []
  }
 ],
 "metadata": {
  "kernelspec": {
   "display_name": "Python 3 (ipykernel)",
   "language": "python",
   "name": "python3"
  },
  "language_info": {
   "codemirror_mode": {
    "name": "ipython",
    "version": 3
   },
   "file_extension": ".py",
   "mimetype": "text/x-python",
   "name": "python",
   "nbconvert_exporter": "python",
   "pygments_lexer": "ipython3",
   "version": "3.11.4"
  }
 },
 "nbformat": 4,
 "nbformat_minor": 5
}
